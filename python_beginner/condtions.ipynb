{
 "metadata": {
  "language_info": {
   "codemirror_mode": {
    "name": "ipython",
    "version": 3
   },
   "file_extension": ".py",
   "mimetype": "text/x-python",
   "name": "python",
   "nbconvert_exporter": "python",
   "pygments_lexer": "ipython3",
   "version": 3
  },
  "orig_nbformat": 2,
  "kernelspec": {
   "name": "python_defaultSpec_1597244916849",
   "display_name": "Python 3.8.5 64-bit"
  }
 },
 "nbformat": 4,
 "nbformat_minor": 2,
 "cells": [
  {
   "cell_type": "code",
   "execution_count": 5,
   "metadata": {
    "tags": []
   },
   "outputs": [
    {
     "output_type": "stream",
     "name": "stdout",
     "text": "sorry, your language is not supported yet.\n"
    }
   ],
   "source": [
    "# trying a crazy idea\n",
    "lang = input(\"enter the language of choice:\")\n",
    "code = input(\">>> \")\n",
    "if lang == \"python\":\n",
    "    eval(code)\n",
    "else:\n",
    "    print(\"sorry, your language is not supported yet.\")"
   ]
  },
  {
   "cell_type": "code",
   "execution_count": 8,
   "metadata": {
    "tags": []
   },
   "outputs": [
    {
     "output_type": "stream",
     "name": "stdout",
     "text": "z\n"
    }
   ],
   "source": [
    "# maximum number\n",
    "x = 3\n",
    "y = 4\n",
    "z = 12\n",
    "\n",
    "if x > y:\n",
    "    if x > z:\n",
    "        print('x')\n",
    "    else:\n",
    "        print('z')\n",
    "else:\n",
    "    if y > z:\n",
    "        print('y')\n",
    "    else:\n",
    "        print('z')\n"
   ]
  },
  {
   "cell_type": "code",
   "execution_count": 12,
   "metadata": {
    "tags": []
   },
   "outputs": [
    {
     "output_type": "stream",
     "name": "stdout",
     "text": "> 20\n"
    }
   ],
   "source": [
    "# the code in this  cell is identical to the code the next cell\n",
    "x = 60\n",
    "if x > 20:\n",
    "    print('> 20')\n",
    "else:\n",
    "    if x > 30:\n",
    "        print('> 30')    \n",
    "    else:\n",
    "        if x > 40:\n",
    "            print('> 40')\n",
    "        else:\n",
    "            if x > 50:\n",
    "                print('> 50')\n",
    "            else: \n",
    "                if x > 60:\n",
    "                    print('> 60')\n",
    "                else:\n",
    "                    if x > 70:\n",
    "                        print('> 70')\n",
    "                    else:\n",
    "                        if x > 80:\n",
    "                            print('> 80')\n",
    "                        else:\n",
    "                            print('sorry, stupid program.')\n",
    "                "
   ]
  },
  {
   "cell_type": "code",
   "execution_count": 15,
   "metadata": {
    "tags": []
   },
   "outputs": [
    {
     "output_type": "stream",
     "name": "stdout",
     "text": "> 20\n"
    }
   ],
   "source": [
    "x = 60\n",
    "if x > 20:\n",
    "    print('> 20')\n",
    "elif x > 30:\n",
    "    print('> 30')    \n",
    "elif x > 40:\n",
    "    print('> 40')\n",
    "elif x > 50:\n",
    "    print('> 50')\n",
    "elif x > 60:\n",
    "    print('> 60')\n",
    "elif x > 70:\n",
    "    print('> 70')\n",
    "elif x > 80:\n",
    "    print('> 80')\n",
    "else:\n",
    "    print('sorry, stupid program.')"
   ]
  },
  {
   "cell_type": "code",
   "execution_count": 18,
   "metadata": {
    "tags": []
   },
   "outputs": [
    {
     "output_type": "stream",
     "name": "stdout",
     "text": "please, log in.\n"
    }
   ],
   "source": [
    "user = 'admin'\n",
    "logged_in = False\n",
    "\n",
    "if user == 'admin' and logged_in:\n",
    "    print('welcome')\n",
    "else: \n",
    "    print('please, log in.')\n"
   ]
  },
  {
   "cell_type": "code",
   "execution_count": 20,
   "metadata": {
    "tags": []
   },
   "outputs": [
    {
     "output_type": "stream",
     "name": "stdout",
     "text": "False\n"
    }
   ],
   "source": [
    "condition = None\n",
    "if condition:\n",
    "    print(True)\n",
    "else:\n",
    "    print(False)"
   ]
  },
  {
   "cell_type": "code",
   "execution_count": 21,
   "metadata": {
    "tags": []
   },
   "outputs": [
    {
     "output_type": "stream",
     "name": "stdout",
     "text": "False\n"
    }
   ],
   "source": [
    "condition = 0\n",
    "if condition:\n",
    "    print(True)\n",
    "else:\n",
    "    print(False)"
   ]
  },
  {
   "cell_type": "code",
   "execution_count": 22,
   "metadata": {
    "tags": []
   },
   "outputs": [
    {
     "output_type": "stream",
     "name": "stdout",
     "text": "True\n"
    }
   ],
   "source": [
    "condition = 1\n",
    "if condition:\n",
    "    print(True)\n",
    "else:\n",
    "    print(False)"
   ]
  },
  {
   "cell_type": "code",
   "execution_count": 24,
   "metadata": {
    "tags": []
   },
   "outputs": [
    {
     "output_type": "stream",
     "name": "stdout",
     "text": "True\n"
    }
   ],
   "source": [
    "condition = 3.4\n",
    "if condition:\n",
    "    print(True)\n",
    "else:\n",
    "    print(False)"
   ]
  },
  {
   "cell_type": "code",
   "execution_count": 26,
   "metadata": {
    "tags": []
   },
   "outputs": [
    {
     "output_type": "stream",
     "name": "stdout",
     "text": "True\n"
    }
   ],
   "source": [
    "condition = 'None'\n",
    "if condition:\n",
    "    print(True)\n",
    "else:\n",
    "    print(False)"
   ]
  },
  {
   "cell_type": "code",
   "execution_count": 28,
   "metadata": {
    "tags": []
   },
   "outputs": [
    {
     "output_type": "stream",
     "name": "stdout",
     "text": "False\n"
    }
   ],
   "source": [
    "condition = ''\n",
    "if condition:\n",
    "    print(True)\n",
    "else:\n",
    "    print(False)"
   ]
  },
  {
   "cell_type": "code",
   "execution_count": 30,
   "metadata": {
    "tags": []
   },
   "outputs": [
    {
     "output_type": "stream",
     "name": "stdout",
     "text": "False\n"
    }
   ],
   "source": [
    "condition = {}\n",
    "if condition:\n",
    "    print(True)\n",
    "else:\n",
    "    print(False)"
   ]
  },
  {
   "cell_type": "code",
   "execution_count": 31,
   "metadata": {
    "tags": []
   },
   "outputs": [
    {
     "output_type": "stream",
     "name": "stdout",
     "text": "True\n"
    }
   ],
   "source": [
    "condition = [None]\n",
    "if condition:\n",
    "    print(True)\n",
    "else:\n",
    "    print(False)"
   ]
  }
 ]
}