{
 "metadata": {
  "language_info": {
   "codemirror_mode": {
    "name": "ipython",
    "version": 3
   },
   "file_extension": ".py",
   "mimetype": "text/x-python",
   "name": "python",
   "nbconvert_exporter": "python",
   "pygments_lexer": "ipython3",
   "version": 3
  },
  "orig_nbformat": 2,
  "kernelspec": {
   "name": "python_defaultSpec_1597239173789",
   "display_name": "Python 3.8.5 64-bit"
  }
 },
 "nbformat": 4,
 "nbformat_minor": 2,
 "cells": [
  {
   "cell_type": "code",
   "execution_count": 1,
   "metadata": {
    "tags": []
   },
   "outputs": [
    {
     "output_type": "stream",
     "name": "stdout",
     "text": "['computers', 'computers', 'computers', 'science']\n"
    }
   ],
   "source": [
    "user = {\n",
    "    'name': 'ramoun',\n",
    "    'age': 24,\n",
    "    'married': True,\n",
    "    'hobbies': ['computers', 'computers', 'computers', 'science']\n",
    "}\n",
    "print(user['hobbies'])"
   ]
  },
  {
   "cell_type": "code",
   "execution_count": 2,
   "metadata": {},
   "outputs": [
    {
     "output_type": "execute_result",
     "data": {
      "text/plain": "['__class__',\n '__contains__',\n '__delattr__',\n '__delitem__',\n '__dir__',\n '__doc__',\n '__eq__',\n '__format__',\n '__ge__',\n '__getattribute__',\n '__getitem__',\n '__gt__',\n '__hash__',\n '__init__',\n '__init_subclass__',\n '__iter__',\n '__le__',\n '__len__',\n '__lt__',\n '__ne__',\n '__new__',\n '__reduce__',\n '__reduce_ex__',\n '__repr__',\n '__reversed__',\n '__setattr__',\n '__setitem__',\n '__sizeof__',\n '__str__',\n '__subclasshook__',\n 'clear',\n 'copy',\n 'fromkeys',\n 'get',\n 'items',\n 'keys',\n 'pop',\n 'popitem',\n 'setdefault',\n 'update',\n 'values']"
     },
     "metadata": {},
     "execution_count": 2
    }
   ],
   "source": [
    "dir(dict)"
   ]
  },
  {
   "cell_type": "code",
   "execution_count": 4,
   "metadata": {
    "tags": []
   },
   "outputs": [
    {
     "output_type": "stream",
     "name": "stdout",
     "text": "24\nNone\n"
    }
   ],
   "source": [
    "user = {\n",
    "    'name': 'ramoun',\n",
    "    'age': 24,\n",
    "    'married': True,\n",
    "    'hobbies': ['computers', 'computers', 'computers', 'science']\n",
    "}\n",
    "print(user.get('age'))\n",
    "print(user.get('birthdate'))"
   ]
  },
  {
   "cell_type": "code",
   "execution_count": 5,
   "metadata": {
    "tags": []
   },
   "outputs": [
    {
     "output_type": "stream",
     "name": "stdout",
     "text": "24\nnot-found\n"
    }
   ],
   "source": [
    "user = {\n",
    "    'name': 'ramoun',\n",
    "    'age': 24,\n",
    "    'married': True,\n",
    "    'hobbies': ['computers', 'computers', 'computers', 'science']\n",
    "}\n",
    "print(user.get('age'))\n",
    "print(user.get('birthdate', 'not-found'))\n"
   ]
  },
  {
   "cell_type": "code",
   "execution_count": 6,
   "metadata": {
    "tags": []
   },
   "outputs": [
    {
     "output_type": "stream",
     "name": "stdout",
     "text": "{'name': 'ramoun', 'age': 24, 'married': True, 'hobbies': ['computers', 'computers', 'computers', 'science'], 'phone': '+201554112661'}\n"
    }
   ],
   "source": [
    "user['phone'] = '+201554112661'\n",
    "print(user)"
   ]
  },
  {
   "cell_type": "code",
   "execution_count": 9,
   "metadata": {
    "tags": []
   },
   "outputs": [
    {
     "output_type": "stream",
     "name": "stdout",
     "text": "{'name': 'ramoun', 'age': 15, 'married': True, 'hobbies': ['computers', 'computers', 'computers', 'science'], 'phone': '+201554112661'}\n"
    }
   ],
   "source": [
    "user = {\n",
    "    'name': 'ramoun',\n",
    "    'age': 24,\n",
    "    'married': True,\n",
    "    'hobbies': ['computers', 'computers', 'computers', 'science']\n",
    "}\n",
    "# let's add a phone number\n",
    "user.update({'age': 15, 'phone': '+201554112661'})\n",
    "print(user)\n"
   ]
  },
  {
   "cell_type": "code",
   "execution_count": 10,
   "metadata": {
    "tags": []
   },
   "outputs": [
    {
     "output_type": "stream",
     "name": "stdout",
     "text": "{'name': 'ramoun', 'married': True, 'hobbies': ['computers', 'computers', 'computers', 'science'], 'phone': '+201554112661'}\n"
    }
   ],
   "source": [
    "del user['age']    \n",
    "print(user)"
   ]
  },
  {
   "cell_type": "code",
   "execution_count": 11,
   "metadata": {
    "tags": []
   },
   "outputs": [
    {
     "output_type": "stream",
     "name": "stdout",
     "text": "name\nage\n"
    }
   ],
   "source": [
    "d = {'name': 'linus', 'age': 30}\n",
    "for k in d:\n",
    "    print(k)\n"
   ]
  },
  {
   "cell_type": "code",
   "execution_count": null,
   "metadata": {},
   "outputs": [],
   "source": []
  }
 ]
}