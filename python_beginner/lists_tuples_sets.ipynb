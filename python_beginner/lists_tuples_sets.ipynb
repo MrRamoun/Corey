{
 "metadata": {
  "language_info": {
   "codemirror_mode": {
    "name": "ipython",
    "version": 3
   },
   "file_extension": ".py",
   "mimetype": "text/x-python",
   "name": "python",
   "nbconvert_exporter": "python",
   "pygments_lexer": "ipython3",
   "version": 3
  },
  "orig_nbformat": 2,
  "kernelspec": {
   "name": "python_defaultSpec_1597187070110",
   "display_name": "Python 3.8.5 64-bit"
  }
 },
 "nbformat": 4,
 "nbformat_minor": 2,
 "cells": [
  {
   "cell_type": "markdown",
   "metadata": {},
   "source": [
    "# Lists"
   ]
  },
  {
   "cell_type": "code",
   "execution_count": 1,
   "metadata": {},
   "outputs": [
    {
     "output_type": "execute_result",
     "data": {
      "text/plain": "['__add__',\n '__class__',\n '__contains__',\n '__delattr__',\n '__delitem__',\n '__dir__',\n '__doc__',\n '__eq__',\n '__format__',\n '__ge__',\n '__getattribute__',\n '__getitem__',\n '__gt__',\n '__hash__',\n '__iadd__',\n '__imul__',\n '__init__',\n '__init_subclass__',\n '__iter__',\n '__le__',\n '__len__',\n '__lt__',\n '__mul__',\n '__ne__',\n '__new__',\n '__reduce__',\n '__reduce_ex__',\n '__repr__',\n '__reversed__',\n '__rmul__',\n '__setattr__',\n '__setitem__',\n '__sizeof__',\n '__str__',\n '__subclasshook__',\n 'append',\n 'clear',\n 'copy',\n 'count',\n 'extend',\n 'index',\n 'insert',\n 'pop',\n 'remove',\n 'reverse',\n 'sort']"
     },
     "metadata": {},
     "execution_count": 1
    }
   ],
   "source": [
    "dir(list)"
   ]
  },
  {
   "cell_type": "markdown",
   "metadata": {},
   "source": [
    "## creating a list"
   ]
  },
  {
   "cell_type": "code",
   "execution_count": 3,
   "metadata": {},
   "outputs": [
    {
     "output_type": "execute_result",
     "data": {
      "text/plain": "[]"
     },
     "metadata": {},
     "execution_count": 3
    }
   ],
   "source": [
    "l = [1,3,2,3]\n",
    "l = list((1,2,3,4))\n",
    "l = []\n",
    "l = list()\n",
    "l"
   ]
  },
  {
   "cell_type": "markdown",
   "metadata": {},
   "source": [
    "## adding items to list"
   ]
  },
  {
   "cell_type": "code",
   "execution_count": 4,
   "metadata": {
    "tags": []
   },
   "outputs": [
    {
     "output_type": "stream",
     "name": "stdout",
     "text": "['hi', 1, 2, 300]\n"
    }
   ],
   "source": [
    "l = ['hi', 1, 2]\n",
    "l.append(300)\n",
    "print(l) # output: ['hi', 1, 2, 300]"
   ]
  },
  {
   "cell_type": "code",
   "execution_count": 5,
   "metadata": {
    "tags": []
   },
   "outputs": [
    {
     "output_type": "stream",
     "name": "stdout",
     "text": "['hello', 'python', 1, 2.3]\n"
    }
   ],
   "source": [
    "l = ['hello', 1, 2.3]\n",
    "l.insert(1, 'python')\n",
    "print(l) "
   ]
  },
  {
   "cell_type": "code",
   "execution_count": 19,
   "metadata": {
    "tags": []
   },
   "outputs": [
    {
     "output_type": "stream",
     "name": "stdout",
     "text": "0x7fcfdc773e80\n['hello', 1, 2.3, 'i', 'luv', 'programming']\n0x7fcfdc773e80\n"
    }
   ],
   "source": [
    "\n",
    "l = ['hello', 1, 2.3]\n",
    "l2 = ['i','luv','programming']\n",
    "print(hex(id(l)))\n",
    "l.extend(l2)\n",
    "print(l) # output: ['hello', 1, 2.3, 'i', 'luv', 'programming']\n",
    "print(hex(id(l)))"
   ]
  },
  {
   "cell_type": "code",
   "execution_count": 8,
   "metadata": {
    "tags": []
   },
   "outputs": [
    {
     "output_type": "stream",
     "name": "stdout",
     "text": "['hello', 1, 2.3, ['i', 'luv', 'programming']]\n"
    }
   ],
   "source": [
    "l = ['hello', 1, 2.3]\n",
    "l2 = ['i','luv','programming']\n",
    "l.append(l2)\n",
    "print(l)"
   ]
  },
  {
   "cell_type": "code",
   "execution_count": 9,
   "metadata": {
    "tags": []
   },
   "outputs": [
    {
     "output_type": "stream",
     "name": "stdout",
     "text": "['hello', ['i', 'luv', 'programming'], 1, 2.3]\n"
    }
   ],
   "source": [
    "l = ['hello', 1, 2.3]\n",
    "l2 = ['i','luv','programming']\n",
    "l.insert(1,l2)\n",
    "print(l)"
   ]
  },
  {
   "cell_type": "code",
   "execution_count": 15,
   "metadata": {
    "tags": []
   },
   "outputs": [
    {
     "output_type": "stream",
     "name": "stdout",
     "text": "['hello', 'i', 'luv', 'programming', 1, 2.3]\n"
    }
   ],
   "source": [
    "# what if i want to insert elements of another list in a specific positon.\n",
    "l = ['hello', 1, 2.3]\n",
    "l2 = ['i','luv','programming']\n",
    "for i in l2[::-1]:\n",
    "    l.insert(1, i)\n",
    "print(l)"
   ]
  },
  {
   "cell_type": "code",
   "execution_count": 17,
   "metadata": {
    "tags": []
   },
   "outputs": [
    {
     "output_type": "stream",
     "name": "stdout",
     "text": "['hello', ['i', 'luv', 'programming'], 1, 2.3]\n['hello', ['i', 'luv', 'programming'], 1, 2.3]\n"
    }
   ],
   "source": [
    "l = ['hello', 1, 2.3]\n",
    "l2 = ['i','luv','programming']\n",
    "l.insert(1,l2[:])\n",
    "print(l)\n",
    "print(l[:]) # just returns a list"
   ]
  },
  {
   "cell_type": "code",
   "execution_count": 21,
   "metadata": {
    "tags": []
   },
   "outputs": [
    {
     "output_type": "stream",
     "name": "stdout",
     "text": "0x7fcfdc6d2d00\n['hello', 1, 2.3, 'i', 'luv', 'programming']\n0x7fcfdc6d6cc0\n"
    }
   ],
   "source": [
    "l = ['hello', 1, 2.3]\n",
    "l2 = ['i','luv','programming']\n",
    "print(hex(id(l)))\n",
    "l = l + l2 \n",
    "print(l)\n",
    "print(hex(id(l)))"
   ]
  },
  {
   "cell_type": "markdown",
   "metadata": {},
   "source": [
    "## removing items from a list"
   ]
  },
  {
   "cell_type": "code",
   "execution_count": 24,
   "metadata": {
    "tags": []
   },
   "outputs": [
    {
     "output_type": "stream",
     "name": "stdout",
     "text": "[1, 3]\n"
    }
   ],
   "source": [
    "l = [1,2,3]\n",
    "l.remove(2)\n",
    "print(l)"
   ]
  },
  {
   "cell_type": "code",
   "execution_count": 25,
   "metadata": {
    "tags": []
   },
   "outputs": [
    {
     "output_type": "stream",
     "name": "stdout",
     "text": "[1, 2]\n"
    }
   ],
   "source": [
    "l = [1,2,3]\n",
    "l.pop()\n",
    "print(l)"
   ]
  },
  {
   "cell_type": "code",
   "execution_count": 26,
   "metadata": {
    "tags": []
   },
   "outputs": [
    {
     "output_type": "stream",
     "name": "stdout",
     "text": "[1, 3]\n"
    }
   ],
   "source": [
    "l = [1,2,3]\n",
    "l.pop(1)\n",
    "print(l)"
   ]
  },
  {
   "cell_type": "code",
   "execution_count": 27,
   "metadata": {
    "tags": []
   },
   "outputs": [
    {
     "output_type": "stream",
     "name": "stdout",
     "text": "['david', 'john', 'josh', 'michael']\n"
    }
   ],
   "source": [
    "names = ['michael', 'john', 'josh', 'david']\n",
    "names.sort()\n",
    "print(names)"
   ]
  },
  {
   "cell_type": "code",
   "execution_count": 28,
   "metadata": {
    "tags": []
   },
   "outputs": [
    {
     "output_type": "stream",
     "name": "stdout",
     "text": "[1, 2, 3, 11, 33, 55, 12231]\n"
    }
   ],
   "source": [
    "numbers = [3, 33, 55, 11, 2, 12231, 1]\n",
    "numbers.sort()\n",
    "print(numbers)"
   ]
  },
  {
   "cell_type": "code",
   "execution_count": 30,
   "metadata": {
    "tags": []
   },
   "outputs": [
    {
     "output_type": "stream",
     "name": "stdout",
     "text": "[12231, 55, 33, 11, 3, 2, 1]\n"
    }
   ],
   "source": [
    "numbers = [3, 33, 55, 11, 2, 12231, 1]\n",
    "numbers.sort(reverse=True)\n",
    "print(numbers)"
   ]
  },
  {
   "cell_type": "code",
   "execution_count": 31,
   "metadata": {
    "tags": []
   },
   "outputs": [
    {
     "output_type": "stream",
     "name": "stdout",
     "text": "['michael', 'josh', 'john', 'david']\n"
    }
   ],
   "source": [
    "names = ['michael', 'john', 'josh', 'david']\n",
    "names.sort(reverse=True)\n",
    "print(names) "
   ]
  },
  {
   "cell_type": "code",
   "execution_count": 32,
   "metadata": {
    "tags": []
   },
   "outputs": [
    {
     "output_type": "stream",
     "name": "stdout",
     "text": "['michael', 'john', 'josh', 'david']\n['david', 'john', 'josh', 'michael']\n"
    }
   ],
   "source": [
    "names = ['michael', 'john', 'josh', 'david']\n",
    "numbers = [3, 33, 55, 11, 2, 12231, 1]\n",
    "\n",
    "sorted_names = sorted(names)\n",
    "sorted_numbers = sorted(numbers)\n",
    "\n",
    "print(names)\n",
    "print(sorted_names)"
   ]
  },
  {
   "cell_type": "code",
   "execution_count": 34,
   "metadata": {
    "tags": []
   },
   "outputs": [
    {
     "output_type": "stream",
     "name": "stdout",
     "text": "[1, 12231, 2, 11, 55, 33, 3]\n"
    }
   ],
   "source": [
    "numbers = [3, 33, 55, 11, 2, 12231, 1]\n",
    "numbers.reverse()\n",
    "print(numbers)"
   ]
  },
  {
   "cell_type": "code",
   "execution_count": 36,
   "metadata": {
    "tags": []
   },
   "outputs": [
    {
     "output_type": "stream",
     "name": "stdout",
     "text": "1\n"
    }
   ],
   "source": [
    "numbers = [3, 33, 55, 11, 2, 12231, 1]\n",
    "print(min(numbers)) # output: 1    "
   ]
  },
  {
   "cell_type": "code",
   "execution_count": 37,
   "metadata": {
    "tags": []
   },
   "outputs": [
    {
     "output_type": "stream",
     "name": "stdout",
     "text": "david\n"
    }
   ],
   "source": [
    "names = ['michael', 'john', 'josh', 'david']\n",
    "print(min(names))"
   ]
  },
  {
   "cell_type": "code",
   "execution_count": 40,
   "metadata": {
    "tags": []
   },
   "outputs": [
    {
     "output_type": "stream",
     "name": "stdout",
     "text": "12336\n"
    }
   ],
   "source": [
    "numbers = [3, 33, 55, 11, 2, 12231, 1]\n",
    "print(sum(numbers))"
   ]
  },
  {
   "cell_type": "code",
   "execution_count": 42,
   "metadata": {
    "tags": []
   },
   "outputs": [
    {
     "output_type": "stream",
     "name": "stdout",
     "text": "5\n"
    }
   ],
   "source": [
    "numbers = [3, 33, 55, 11, 2, 12231, 1]\n",
    "print(numbers.index(12231)) # output: 5\n"
   ]
  },
  {
   "cell_type": "code",
   "execution_count": 5,
   "metadata": {
    "tags": []
   },
   "outputs": [
    {
     "output_type": "stream",
     "name": "stdout",
     "text": "a, b, c\n"
    }
   ],
   "source": [
    "l = ['a','b','c']\n",
    "str_l = ', '.join(l)\n",
    "print(str_l) # output: a, b, c"
   ]
  },
  {
   "cell_type": "code",
   "execution_count": 6,
   "metadata": {
    "tags": []
   },
   "outputs": [
    {
     "output_type": "stream",
     "name": "stdout",
     "text": "['a', 'b', 'c']\n"
    }
   ],
   "source": [
    "l = str_l.split(', ')\n",
    "print(l) # output:['a', 'b', 'c']\n"
   ]
  },
  {
   "cell_type": "code",
   "execution_count": 7,
   "metadata": {
    "tags": []
   },
   "outputs": [
    {
     "output_type": "stream",
     "name": "stdout",
     "text": "[1, 2, 3]\n0x7f025f4dea80\n0x7f025f4dea80\n"
    }
   ],
   "source": [
    "l = [1,2,3]\n",
    "l2 = l\n",
    "print(l2)\n",
    "print(hex(id(l)))\n",
    "print(hex(id(l2)))\n"
   ]
  },
  {
   "cell_type": "code",
   "execution_count": 8,
   "metadata": {
    "tags": []
   },
   "outputs": [
    {
     "output_type": "stream",
     "name": "stdout",
     "text": "[1, 2, 3]\n0x7f025ecee840\n0x7f025eceea00\n"
    }
   ],
   "source": [
    "l = [1,2,3]\n",
    "l2 = l.copy()\n",
    "print(l2) # [1, 2, 3]\n",
    "print(hex(id(l))) # 0x7f025f4dea80\n",
    "print(hex(id(l2))) # 0x7f025f4dea80\n"
   ]
  },
  {
   "cell_type": "code",
   "execution_count": 9,
   "metadata": {
    "tags": []
   },
   "outputs": [
    {
     "output_type": "stream",
     "name": "stdout",
     "text": "[1, 2, 3]\n0x7f0278680140\n0x7f025f482140\n"
    }
   ],
   "source": [
    "l = [1,2,3]\n",
    "l2 = l[:]\n",
    "print(l2) # [1, 2, 3]\n",
    "print(hex(id(l))) # 0x7f025f4dea80\n",
    "print(hex(id(l2))) # 0x7f025f4dea80\n"
   ]
  },
  {
   "cell_type": "code",
   "execution_count": 13,
   "metadata": {
    "tags": []
   },
   "outputs": [
    {
     "output_type": "stream",
     "name": "stdout",
     "text": "[1, 2, 3]\n0x7f0278680140\n0x7f025f4747c0\n"
    }
   ],
   "source": [
    "l2 = list(l)\n",
    "print(l2) # [1, 2, 3]\n",
    "print(hex(id(l))) # 0x7f025f4dea80\n",
    "print(hex(id(l2)))"
   ]
  },
  {
   "cell_type": "code",
   "execution_count": 15,
   "metadata": {
    "tags": []
   },
   "outputs": [
    {
     "output_type": "stream",
     "name": "stdout",
     "text": "[1, 2, 3]\n0x7f025f5fba80\n0x7f025e87ba00\n"
    }
   ],
   "source": [
    "import copy\n",
    "l = [1,2,3]\n",
    "l2 = copy.copy(l)\n",
    "print(l2) # [1, 2, 3]\n",
    "print(hex(id(l))) # 0x7f025f4dea80\n",
    "print(hex(id(l2))) # 0x7f025f4747c0\n"
   ]
  },
  {
   "cell_type": "code",
   "execution_count": 17,
   "metadata": {
    "tags": []
   },
   "outputs": [
    {
     "output_type": "execute_result",
     "data": {
      "text/plain": "[0, 1, 4, 9, 16, 25, 36, 49, 64, 81]"
     },
     "metadata": {},
     "execution_count": 17
    }
   ],
   "source": [
    "i =input('>>>')\n",
    "eval(i)"
   ]
  }
 ]
}