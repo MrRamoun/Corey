{
 "metadata": {
  "language_info": {
   "codemirror_mode": {
    "name": "ipython",
    "version": 3
   },
   "file_extension": ".py",
   "mimetype": "text/x-python",
   "name": "python",
   "nbconvert_exporter": "python",
   "pygments_lexer": "ipython3",
   "version": 3
  },
  "orig_nbformat": 2,
  "kernelspec": {
   "name": "python_defaultSpec_1597154372137",
   "display_name": "Python 3.8.5 64-bit"
  }
 },
 "nbformat": 4,
 "nbformat_minor": 2,
 "cells": [
  {
   "cell_type": "markdown",
   "metadata": {},
   "source": [
    "# strings"
   ]
  },
  {
   "cell_type": "markdown",
   "metadata": {},
   "source": [
    "## single, double, and triple"
   ]
  },
  {
   "cell_type": "code",
   "execution_count": 20,
   "metadata": {
    "tags": []
   },
   "outputs": [
    {
     "output_type": "stream",
     "name": "stdout",
     "text": "single quotes\ndouble\ntriple\n\nthis is \nmultiline\nstring\n\n"
    }
   ],
   "source": [
    "string = 'single quotes'\n",
    "string2 = \"double\"\n",
    "string3 = '''triple'''\n",
    "multi_line = \"\"\"\n",
    "this is \n",
    "multiline\n",
    "string\n",
    "\"\"\"\n",
    "print(string)\n",
    "print(string2)\n",
    "print(string3)\n",
    "print(multi_line)"
   ]
  },
  {
   "cell_type": "markdown",
   "metadata": {},
   "source": [
    "## slicing"
   ]
  },
  {
   "cell_type": "code",
   "execution_count": 21,
   "metadata": {
    "tags": []
   },
   "outputs": [
    {
     "output_type": "stream",
     "name": "stdout",
     "text": "h\no\n5\nel\nello\nhel\nhello\nhlo\nolleh\nolh\n"
    }
   ],
   "source": [
    "string = 'hello'\n",
    "print(string[0]) # output: 'h'\n",
    "print(string[4]) # output: 'o'\n",
    "print(len(string)) # output: 5 , the length (number of letters in a string)\n",
    "print(string[1:3]) # output: 'el' , because start pos is inclusive but end pos is exclusive\n",
    "print(string[1:]) # output: 'ello' , because leaving the (start/end) pos empty means (from begining/to end)\n",
    "print(string[:3]) # output: 'hel'\n",
    "print(string[:]) # output: 'hello'\n",
    "print(string[::2]) # output: 'hlo'\n",
    "print(string[::-1]) # output: 'olleh'\n",
    "print(string[::-2]) # output: 'olh'"
   ]
  },
  {
   "cell_type": "markdown",
   "metadata": {},
   "source": [
    "## string methods"
   ]
  },
  {
   "cell_type": "code",
   "execution_count": 22,
   "metadata": {},
   "outputs": [
    {
     "output_type": "execute_result",
     "data": {
      "text/plain": "['__add__',\n '__class__',\n '__contains__',\n '__delattr__',\n '__dir__',\n '__doc__',\n '__eq__',\n '__format__',\n '__ge__',\n '__getattribute__',\n '__getitem__',\n '__getnewargs__',\n '__gt__',\n '__hash__',\n '__init__',\n '__init_subclass__',\n '__iter__',\n '__le__',\n '__len__',\n '__lt__',\n '__mod__',\n '__mul__',\n '__ne__',\n '__new__',\n '__reduce__',\n '__reduce_ex__',\n '__repr__',\n '__rmod__',\n '__rmul__',\n '__setattr__',\n '__sizeof__',\n '__str__',\n '__subclasshook__',\n 'capitalize',\n 'casefold',\n 'center',\n 'count',\n 'encode',\n 'endswith',\n 'expandtabs',\n 'find',\n 'format',\n 'format_map',\n 'index',\n 'isalnum',\n 'isalpha',\n 'isascii',\n 'isdecimal',\n 'isdigit',\n 'isidentifier',\n 'islower',\n 'isnumeric',\n 'isprintable',\n 'isspace',\n 'istitle',\n 'isupper',\n 'join',\n 'ljust',\n 'lower',\n 'lstrip',\n 'maketrans',\n 'partition',\n 'replace',\n 'rfind',\n 'rindex',\n 'rjust',\n 'rpartition',\n 'rsplit',\n 'rstrip',\n 'split',\n 'splitlines',\n 'startswith',\n 'strip',\n 'swapcase',\n 'title',\n 'translate',\n 'upper',\n 'zfill']"
     },
     "metadata": {},
     "execution_count": 22
    }
   ],
   "source": [
    "dir(str)"
   ]
  },
  {
   "cell_type": "code",
   "execution_count": 23,
   "metadata": {
    "tags": []
   },
   "outputs": [
    {
     "output_type": "stream",
     "name": "stdout",
     "text": "HELLO WORLD\nhello world\nHello world\n1\n"
    }
   ],
   "source": [
    "msg = 'hello wOrLd'\n",
    "print(msg.upper()) # output: HELLO WORLD\n",
    "print(msg.lower()) # output: hello world\n",
    "print(msg.capitalize()) # output: Hello world\n",
    "print(msg.count('o')) # output: 2"
   ]
  },
  {
   "cell_type": "code",
   "execution_count": 24,
   "metadata": {
    "tags": []
   },
   "outputs": [
    {
     "output_type": "stream",
     "name": "stdout",
     "text": "6\n6\n-1\n-1\n"
    }
   ],
   "source": [
    "msg = 'hello WoRlD'\n",
    "print(msg.find('W')) # output: 6 , it returns the index of the letter we are looking for.\n",
    "print(msg.find('WoRlD')) # output: 6, it returns the index of the first letter of the word we are looking for.\n",
    "print(msg.find('something')) # output: -1, if it doesn't find the word we are looking for it returns -1.\n",
    "print(msg.find('z')) # output: -1\n"
   ]
  },
  {
   "cell_type": "code",
   "execution_count": 25,
   "metadata": {
    "tags": []
   },
   "outputs": [
    {
     "output_type": "stream",
     "name": "stdout",
     "text": "hello world\nhello ramoun\n"
    }
   ],
   "source": [
    "msg = 'hello world'\n",
    "msg.replace('world', 'ramoun') \n",
    "print(msg) # output 'hello world' , because it is not making the replacement in place -> it is returning new string with those values replaced.\n",
    "\n",
    "# we need to caputer the returned value with a variable\n",
    "new_msg = msg.replace('world', 'ramoun') \n",
    "print(new_msg) # output: 'hello ramoun'"
   ]
  },
  {
   "cell_type": "markdown",
   "metadata": {},
   "source": [
    "## string formatting"
   ]
  },
  {
   "cell_type": "code",
   "execution_count": 26,
   "metadata": {
    "tags": []
   },
   "outputs": [
    {
     "output_type": "stream",
     "name": "stdout",
     "text": "ramoun is a 25 years old programmer.\n"
    }
   ],
   "source": [
    "name = 'ramoun'\n",
    "age = '25'\n",
    "print(name + ' is a ' + age + ' years old programmer.')"
   ]
  },
  {
   "cell_type": "code",
   "execution_count": 27,
   "metadata": {
    "tags": []
   },
   "outputs": [
    {
     "output_type": "stream",
     "name": "stdout",
     "text": "ramoun is a 25 years old programmer.\n"
    }
   ],
   "source": [
    "name = 'ramoun'\n",
    "age = '25' # wait a minute!!..don't worry will be explained later.\n",
    "\n",
    "print('{} is a {} years old programmer.'.format(name,age))"
   ]
  },
  {
   "cell_type": "code",
   "execution_count": 28,
   "metadata": {
    "tags": []
   },
   "outputs": [
    {
     "output_type": "stream",
     "name": "stdout",
     "text": "ramoun is a 25 years old programmer.\n"
    }
   ],
   "source": [
    "print('{0} is a {1} years old programmer.'.format(name,age))\n",
    "# output: 'ramoun is a 25 years old programmer.'"
   ]
  },
  {
   "cell_type": "code",
   "execution_count": 29,
   "metadata": {
    "tags": []
   },
   "outputs": [
    {
     "output_type": "stream",
     "name": "stdout",
     "text": "ramoun is a 25 years old programmer.\n"
    }
   ],
   "source": [
    "print('{name} is a {age} years old programmer.'.format(name=name, age=age))\n",
    "# output: 'ramoun is a 25 years old programmer.'"
   ]
  },
  {
   "cell_type": "code",
   "execution_count": 30,
   "metadata": {
    "tags": []
   },
   "outputs": [
    {
     "output_type": "stream",
     "name": "stdout",
     "text": "ramoun is a 25 years old programmer.\n"
    }
   ],
   "source": [
    "print(f'{name} is a {age} years old programmer.')"
   ]
  },
  {
   "cell_type": "code",
   "execution_count": 31,
   "metadata": {
    "tags": []
   },
   "outputs": [
    {
     "output_type": "stream",
     "name": "stdout",
     "text": "ram#un loves computers so much!.\n"
    }
   ],
   "source": [
    "print(f\"{name.replace('o', '#')} loves computers so much!.\")"
   ]
  },
  {
   "cell_type": "code",
   "execution_count": 32,
   "metadata": {
    "tags": []
   },
   "outputs": [
    {
     "output_type": "stream",
     "name": "stdout",
     "text": "5\n1\n6\n1.5\n1\n9\n1\n"
    }
   ],
   "source": [
    "print(3 + 2)\n",
    "print(3 - 2)\n",
    "print(3 * 2)\n",
    "print(3 / 2)\n",
    "print(3 // 2)\n",
    "print(3 ** 2)\n",
    "print(3 % 2)"
   ]
  },
  {
   "cell_type": "code",
   "execution_count": 35,
   "metadata": {
    "tags": []
   },
   "outputs": [
    {
     "output_type": "stream",
     "name": "stdout",
     "text": "4\n"
    }
   ],
   "source": [
    "x = 3\n",
    "x = x + 1\n",
    "print(x)"
   ]
  },
  {
   "cell_type": "code",
   "execution_count": 37,
   "metadata": {
    "tags": []
   },
   "outputs": [
    {
     "output_type": "stream",
     "name": "stdout",
     "text": "3\n"
    }
   ],
   "source": [
    "x = 2\n",
    "x += 1\n",
    "print(x)"
   ]
  },
  {
   "cell_type": "code",
   "execution_count": 38,
   "metadata": {
    "tags": []
   },
   "outputs": [
    {
     "output_type": "stream",
     "name": "stdout",
     "text": "33\n33\n34\n34\n"
    }
   ],
   "source": [
    "print(round(33.3)) # output: 33\n",
    "print(round(33.4)) # output: 33\n",
    "print(round(33.5)) # output: 34\n",
    "print(round(33.6)) # output: 34"
   ]
  },
  {
   "cell_type": "code",
   "execution_count": 44,
   "metadata": {
    "tags": []
   },
   "outputs": [
    {
     "output_type": "stream",
     "name": "stdout",
     "text": "33.3\n33.3\n30.0\n33.3\n"
    }
   ],
   "source": [
    "print(round(33.3, 4))    \n",
    "print(round(33.3, 2))    \n",
    "print(round(33.3, -1))    \n",
    "print(round(33.3, 3))"
   ]
  },
  {
   "cell_type": "code",
   "execution_count": 45,
   "metadata": {
    "tags": []
   },
   "outputs": [
    {
     "output_type": "stream",
     "name": "stdout",
     "text": "10\n100\n10\n10.33\n"
    }
   ],
   "source": [
    "    print(abs(-10))\n",
    "    print(abs(-100))\n",
    "    print(abs(10))\n",
    "    print(abs(-10.33))"
   ]
  },
  {
   "cell_type": "code",
   "execution_count": 46,
   "metadata": {
    "tags": []
   },
   "outputs": [
    {
     "output_type": "stream",
     "name": "stdout",
     "text": "200300\n500\n"
    }
   ],
   "source": [
    "number1 = '200'\n",
    "number2 = '300'\n",
    "print(number1 + number2) # output: '200300'\n",
    "\n",
    "# solving problem by casting\n",
    "number1 = int('200')\n",
    "number2 = int('300')\n",
    "print(number1 + number2) # output: 500"
   ]
  }
 ]
}