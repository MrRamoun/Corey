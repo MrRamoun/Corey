{
 "metadata": {
  "language_info": {
   "codemirror_mode": {
    "name": "ipython",
    "version": 3
   },
   "file_extension": ".py",
   "mimetype": "text/x-python",
   "name": "python",
   "nbconvert_exporter": "python",
   "pygments_lexer": "ipython3",
   "version": 3
  },
  "orig_nbformat": 2,
  "kernelspec": {
   "name": "python_defaultSpec_1597154372137",
   "display_name": "Python 3.8.5 64-bit"
  }
 },
 "nbformat": 4,
 "nbformat_minor": 2,
 "cells": [
  {
   "cell_type": "markdown",
   "metadata": {},
   "source": [
    "# strings"
   ]
  },
  {
   "cell_type": "markdown",
   "metadata": {},
   "source": [
    "## single, double, and triple"
   ]
  },
  {
   "cell_type": "code",
   "execution_count": 3,
   "metadata": {
    "tags": []
   },
   "outputs": [
    {
     "output_type": "stream",
     "name": "stdout",
     "text": "single quotes\ndouble\ntriple\n\nthis is \nmultiline\nstring\n\n"
    }
   ],
   "source": [
    "string = 'single quotes'\n",
    "string2 = \"double\"\n",
    "string3 = '''triple'''\n",
    "multi_line = \"\"\"\n",
    "this is \n",
    "multiline\n",
    "string\n",
    "\"\"\"\n",
    "print(string)\n",
    "print(string2)\n",
    "print(string3)\n",
    "print(multi_line)"
   ]
  },
  {
   "cell_type": "markdown",
   "metadata": {},
   "source": [
    "## slicing"
   ]
  },
  {
   "cell_type": "code",
   "execution_count": 4,
   "metadata": {
    "tags": []
   },
   "outputs": [
    {
     "output_type": "stream",
     "name": "stdout",
     "text": "h\no\n5\nel\nello\nhel\nhello\nhlo\nolleh\nolh\n"
    }
   ],
   "source": [
    "string = 'hello'\n",
    "print(string[0]) # output: 'h'\n",
    "print(string[4]) # output: 'o'\n",
    "print(len(string)) # output: 5 , the length (number of letters in a string)\n",
    "print(string[1:3]) # output: 'el' , because start pos is inclusive but end pos is exclusive\n",
    "print(string[1:]) # output: 'ello' , because leaving the (start/end) pos empty means (from begining/to end)\n",
    "print(string[:3]) # output: 'hel'\n",
    "print(string[:]) # output: 'hello'\n",
    "print(string[::2]) # output: 'hlo'\n",
    "print(string[::-1]) # output: 'olleh'\n",
    "print(string[::-2]) # output: 'olh'"
   ]
  },
  {
   "cell_type": "code",
   "execution_count": null,
   "metadata": {},
   "outputs": [],
   "source": []
  }
 ]
}