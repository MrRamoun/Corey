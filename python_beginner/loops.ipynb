{
 "metadata": {
  "language_info": {
   "codemirror_mode": {
    "name": "ipython",
    "version": 3
   },
   "file_extension": ".py",
   "mimetype": "text/x-python",
   "name": "python",
   "nbconvert_exporter": "python",
   "pygments_lexer": "ipython3",
   "version": 3
  },
  "orig_nbformat": 2,
  "kernelspec": {
   "name": "python_defaultSpec_1597248883599",
   "display_name": "Python 3.8.5 64-bit"
  }
 },
 "nbformat": 4,
 "nbformat_minor": 2,
 "cells": [
  {
   "cell_type": "code",
   "execution_count": 4,
   "metadata": {
    "tags": []
   },
   "outputs": [
    {
     "output_type": "stream",
     "name": "stdout",
     "text": "1\n2\n3\n4\n5\n6\nnot found\n"
    }
   ],
   "source": [
    "nums = [1,2,3,4,5,6]\n",
    "\n",
    "for num in nums:\n",
    "    if num == 9:\n",
    "        print(\"found it\")\n",
    "        break\n",
    "    print(num)\n",
    "else:\n",
    "    print('not found')"
   ]
  },
  {
   "cell_type": "code",
   "execution_count": 6,
   "metadata": {
    "tags": []
   },
   "outputs": [
    {
     "output_type": "stream",
     "name": "stdout",
     "text": "1\n2\n3\n4\n5\n6\nnot found\n"
    }
   ],
   "source": [
    "nums = [1,2,3,4,5,6]\n",
    "\n",
    "for num in nums:\n",
    "    if num == 9:\n",
    "        print(\"found it\")\n",
    "        continue\n",
    "    print(num)\n",
    "else:\n",
    "    print('not found')"
   ]
  }
 ]
}